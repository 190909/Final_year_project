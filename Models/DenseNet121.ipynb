{
 "cells": [
  {
   "cell_type": "code",
   "execution_count": 1,
   "metadata": {},
   "outputs": [],
   "source": [
    "import tensorflow as tf\n",
    "from tensorflow.keras.applications import DenseNet121\n",
    "from tensorflow.keras.preprocessing.image import ImageDataGenerator\n",
    "from tensorflow.keras.layers import Dense, Dropout, GlobalAveragePooling2D\n",
    "from tensorflow.keras.models import Model\n"
   ]
  },
  {
   "cell_type": "code",
   "execution_count": 2,
   "metadata": {},
   "outputs": [],
   "source": [
    "IMG_SIZE = (224, 224)\n",
    "base_model = DenseNet121(weights='imagenet', include_top=False, input_shape=(*IMG_SIZE, 3))\n"
   ]
  },
  {
   "cell_type": "code",
   "execution_count": 3,
   "metadata": {},
   "outputs": [],
   "source": [
    "x = base_model.output\n",
    "x = GlobalAveragePooling2D()(x)\n",
    "x = Dense(512, activation='relu')(x)\n",
    "x = Dropout(0.5)(x)\n",
    "predictions = Dense(2, activation='softmax')(x)\n",
    "model = Model(inputs=base_model.input, outputs=predictions)\n"
   ]
  },
  {
   "cell_type": "code",
   "execution_count": 4,
   "metadata": {},
   "outputs": [],
   "source": [
    "model.compile(optimizer='adam', loss='categorical_crossentropy', metrics=['accuracy'])\n"
   ]
  },
  {
   "cell_type": "code",
   "execution_count": 5,
   "metadata": {},
   "outputs": [
    {
     "name": "stdout",
     "output_type": "stream",
     "text": [
      "Found 9871 images belonging to 2 classes.\n",
      "Found 1167 images belonging to 2 classes.\n"
     ]
    }
   ],
   "source": [
    "train_datagen = ImageDataGenerator(rescale=1./255, shear_range=0.2, zoom_range=0.2, horizontal_flip=True)\n",
    "test_datagen = ImageDataGenerator(rescale=1./255)\n",
    "\n",
    "train_generator = train_datagen.flow_from_directory('C:/Users/91830/OneDrive/Desktop/Project_dataset/Train', target_size=IMG_SIZE, batch_size=32, class_mode='categorical')\n",
    "test_generator = test_datagen.flow_from_directory('C:/Users/91830/OneDrive/Desktop/Project_dataset/Test/', target_size=IMG_SIZE, batch_size=32, class_mode='categorical')\n"
   ]
  },
  {
   "cell_type": "code",
   "execution_count": 6,
   "metadata": {},
   "outputs": [
    {
     "name": "stdout",
     "output_type": "stream",
     "text": [
      "Epoch 1/10\n",
      "308/308 [==============================] - 2442s 8s/step - loss: 0.1268 - accuracy: 0.9615 - val_loss: 0.6080 - val_accuracy: 0.7830\n",
      "Epoch 2/10\n",
      "308/308 [==============================] - 2406s 8s/step - loss: 0.0420 - accuracy: 0.9871 - val_loss: 1.1991 - val_accuracy: 0.8663\n",
      "Epoch 3/10\n",
      "308/308 [==============================] - 2419s 8s/step - loss: 0.0332 - accuracy: 0.9906 - val_loss: 2.3788 - val_accuracy: 0.7352\n",
      "Epoch 4/10\n",
      "308/308 [==============================] - 2416s 8s/step - loss: 0.0380 - accuracy: 0.9884 - val_loss: 0.0118 - val_accuracy: 0.9974\n",
      "Epoch 5/10\n",
      "308/308 [==============================] - 2421s 8s/step - loss: 0.0246 - accuracy: 0.9929 - val_loss: 0.4248 - val_accuracy: 0.9523\n",
      "Epoch 6/10\n",
      "308/308 [==============================] - 2420s 8s/step - loss: 0.0096 - accuracy: 0.9974 - val_loss: 0.4014 - val_accuracy: 0.9280\n",
      "Epoch 7/10\n",
      "308/308 [==============================] - 3314s 11s/step - loss: 0.0303 - accuracy: 0.9921 - val_loss: 0.2819 - val_accuracy: 0.9688\n",
      "Epoch 8/10\n",
      "308/308 [==============================] - 3514s 11s/step - loss: 0.0225 - accuracy: 0.9923 - val_loss: 0.0272 - val_accuracy: 0.9809\n",
      "Epoch 9/10\n",
      "308/308 [==============================] - 2584s 8s/step - loss: 0.0289 - accuracy: 0.9913 - val_loss: 0.3275 - val_accuracy: 0.9097\n",
      "Epoch 10/10\n",
      "308/308 [==============================] - 2960s 10s/step - loss: 0.0213 - accuracy: 0.9937 - val_loss: 0.2988 - val_accuracy: 0.9358\n"
     ]
    },
    {
     "data": {
      "text/plain": [
       "<keras.callbacks.History at 0x23e7fd43a60>"
      ]
     },
     "execution_count": 6,
     "metadata": {},
     "output_type": "execute_result"
    }
   ],
   "source": [
    "\n",
    "model.fit(train_generator, steps_per_epoch=train_generator.n//train_generator.batch_size, epochs=10, validation_data=test_generator, validation_steps=test_generator.n//test_generator.batch_size)\n"
   ]
  },
  {
   "cell_type": "code",
   "execution_count": 8,
   "metadata": {},
   "outputs": [],
   "source": [
    "model.save('C:/Users/91830/OneDrive/Desktop/Project_dataset/Models/DenseNet121.h5')"
   ]
  },
  {
   "cell_type": "code",
   "execution_count": 6,
   "metadata": {},
   "outputs": [],
   "source": [
    "model1 =tf.keras.models.load_model('C:/Users/91830/OneDrive/Desktop/Project_dataset/Models/DenseNet121.h5')"
   ]
  },
  {
   "cell_type": "code",
   "execution_count": 8,
   "metadata": {},
   "outputs": [
    {
     "name": "stdout",
     "output_type": "stream",
     "text": [
      "Found 1167 images belonging to 2 classes.\n",
      "37/37 [==============================] - 57s 1s/step - loss: 0.7859 - accuracy: 0.5518\n",
      "Test loss: 0.7859\n",
      "Test accuracy: 0.5518\n"
     ]
    }
   ],
   "source": [
    "\n",
    "# prepare the test data\n",
    "test_datagen = ImageDataGenerator(rescale=1./255)\n",
    "test_generator = test_datagen.flow_from_directory('C:/Users/91830/OneDrive/Desktop/Project_dataset/Test/', target_size=IMG_SIZE, batch_size=32, class_mode='categorical')\n",
    "\n",
    "# evaluate the model on the test data\n",
    "loss, accuracy = model.evaluate(test_generator)\n",
    "print(f'Test loss: {loss:.4f}')\n",
    "print(f'Test accuracy: {accuracy:.4f}')\n"
   ]
  },
  {
   "cell_type": "code",
   "execution_count": 9,
   "metadata": {},
   "outputs": [
    {
     "name": "stdout",
     "output_type": "stream",
     "text": [
      "1/1 [==============================] - 1s 1s/step\n",
      "Fire Detected\n"
     ]
    }
   ],
   "source": [
    "from tensorflow.keras.applications.densenet import DenseNet201, preprocess_input\n",
    "from tensorflow.keras.preprocessing import image\n",
    "import numpy as np\n",
    "\n",
    "img_path = 'C:/Users/91830/OneDrive/Desktop/Project_dataset/Test/Fire/55_frame_180.jpg'\n",
    "img = image.load_img(img_path, target_size=(224, 224))\n",
    "img_array = image.img_to_array(img)\n",
    "img_array = np.expand_dims(img_array, axis=0)\n",
    "img_array = preprocess_input(img_array)\n",
    "\n",
    "prediction = model.predict(img_array)\n",
    "if prediction[0][0] > prediction[0][1]:\n",
    "    print('Fire Detected')\n",
    "else:\n",
    "    print('No Fire Detected')\n"
   ]
  },
  {
   "cell_type": "code",
   "execution_count": 10,
   "metadata": {},
   "outputs": [
    {
     "name": "stdout",
     "output_type": "stream",
     "text": [
      "37/37 [==============================] - 56s 1s/step\n",
      "Confusion Matrix:\n",
      "[[275 200]\n",
      " [437 255]]\n"
     ]
    }
   ],
   "source": [
    "from sklearn.metrics import confusion_matrix\n",
    "# make predictions on the test data\n",
    "Y_pred = model.predict(test_generator)\n",
    "y_pred = np.argmax(Y_pred, axis=1)\n",
    "\n",
    "# get the true labels\n",
    "y_true = test_generator.classes\n",
    "\n",
    "# create the confusion matrix\n",
    "conf_mat = confusion_matrix(y_true, y_pred)\n",
    "\n",
    "print('Confusion Matrix:')\n",
    "print(conf_mat)"
   ]
  },
  {
   "cell_type": "code",
   "execution_count": 11,
   "metadata": {},
   "outputs": [
    {
     "data": {
      "image/png": "[encoded data removed]",
      "text/plain": [
       "<Figure size 640x480 with 2 Axes>"
      ]
     },
     "metadata": {},
     "output_type": "display_data"
    }
   ],
   "source": [
    "import matplotlib.pyplot as plt\n",
    "import numpy\n",
    "from sklearn import metrics\n",
    "\n",
    "actual = numpy.random.binomial(1,.9,size = 1000)\n",
    "predicted = numpy.random.binomial(1,.9,size = 1000)\n",
    "\n",
    "confusion_matrix = metrics.confusion_matrix(actual, predicted)\n",
    "\n",
    "cm_display = metrics.ConfusionMatrixDisplay(confusion_matrix = confusion_matrix, display_labels = [False, True])\n",
    "\n",
    "cm_display.plot()\n",
    "plt.show()"
   ]
  }
 ],
 "metadata": {
  "kernelspec": {
   "display_name": "Python 3",
   "language": "python",
   "name": "python3"
  },
  "language_info": {
   "codemirror_mode": {
    "name": "ipython",
    "version": 3
   },
   "file_extension": ".py",
   "mimetype": "text/x-python",
   "name": "python",
   "nbconvert_exporter": "python",
   "pygments_lexer": "ipython3",
   "version": "3.10.9"
  },
  "orig_nbformat": 4
 },
 "nbformat": 4,
 "nbformat_minor": 2
}
