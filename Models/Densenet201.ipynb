{
 "cells": [
  {
   "cell_type": "code",
   "execution_count": 1,
   "metadata": {},
   "outputs": [],
   "source": [
    "import os\n",
    "import numpy as np\n",
    "import tensorflow as tf\n",
    "from tensorflow.keras.layers import Dense, GlobalAveragePooling2D\n",
    "from tensorflow.keras.models import Model\n",
    "from tensorflow.keras.optimizers import Adam\n",
    "from tensorflow.keras.preprocessing.image import ImageDataGenerator\n",
    "\n",
    "from tensorflow.keras.applications.densenet import DenseNet201, preprocess_input"
   ]
  },
  {
   "cell_type": "code",
   "execution_count": 2,
   "metadata": {},
   "outputs": [],
   "source": [
    "base_model = DenseNet201(weights='imagenet', include_top=False)\n",
    "x = base_model.output\n",
    "x = GlobalAveragePooling2D()(x)\n",
    "x = Dense(1024, activation='relu')(x)\n",
    "predictions = Dense(2, activation='softmax')(x)\n",
    "model = Model(inputs=base_model.input, outputs=predictions)\n"
   ]
  },
  {
   "cell_type": "code",
   "execution_count": 7,
   "metadata": {},
   "outputs": [],
   "source": [
    "for layer in base_model.layers:\n",
    "    layer.trainable = False\n"
   ]
  },
  {
   "cell_type": "code",
   "execution_count": 8,
   "metadata": {},
   "outputs": [],
   "source": [
    "model.compile(optimizer=Adam(learning_rate=0.0001), loss='categorical_crossentropy', metrics=['accuracy'])\n"
   ]
  },
  {
   "cell_type": "code",
   "execution_count": 9,
   "metadata": {},
   "outputs": [
    {
     "name": "stdout",
     "output_type": "stream",
     "text": [
      "Found 9871 images belonging to 2 classes.\n",
      "Found 1067 images belonging to 2 classes.\n"
     ]
    }
   ],
   "source": [
    "train_datagen = ImageDataGenerator(preprocessing_function=preprocess_input,\n",
    "                                   shear_range=0.2,\n",
    "                                   zoom_range=0.2,\n",
    "                                   horizontal_flip=True)\n",
    "\n",
    "test_datagen = ImageDataGenerator(preprocessing_function=preprocess_input)\n",
    "\n",
    "train_generator = train_datagen.flow_from_directory('C:/Users/91830/OneDrive/Desktop/Project_dataset/Train',\n",
    "                                                    target_size=(224, 224),\n",
    "                                                    batch_size=32,\n",
    "                                                    class_mode='categorical')\n",
    "\n",
    "validation_generator = test_datagen.flow_from_directory('C:/Users/91830/OneDrive/Desktop/Project_dataset/Validation',\n",
    "                                                        target_size=(224, 224),\n",
    "                                                        batch_size=32,\n",
    "                                                        class_mode='categorical')\n"
   ]
  },
  {
   "cell_type": "code",
   "execution_count": 6,
   "metadata": {},
   "outputs": [
    {
     "name": "stdout",
     "output_type": "stream",
     "text": [
      "Epoch 1/10\n",
      "309/309 [==============================] - 802s 3s/step - loss: 0.0715 - accuracy: 0.9780 - val_loss: 0.1298 - val_accuracy: 0.9400\n",
      "Epoch 2/10\n",
      "309/309 [==============================] - 775s 3s/step - loss: 0.0089 - accuracy: 0.9988 - val_loss: 0.1968 - val_accuracy: 0.9306\n",
      "Epoch 3/10\n",
      "309/309 [==============================] - 805s 3s/step - loss: 0.0042 - accuracy: 0.9995 - val_loss: 0.2211 - val_accuracy: 0.9306\n",
      "Epoch 4/10\n",
      "309/309 [==============================] - 800s 3s/step - loss: 0.0019 - accuracy: 1.0000 - val_loss: 0.1833 - val_accuracy: 0.9410\n",
      "Epoch 5/10\n",
      "309/309 [==============================] - 796s 3s/step - loss: 0.0014 - accuracy: 0.9999 - val_loss: 0.0857 - val_accuracy: 0.9719\n",
      "Epoch 6/10\n",
      "309/309 [==============================] - 809s 3s/step - loss: 0.0010 - accuracy: 0.9999 - val_loss: 0.2076 - val_accuracy: 0.9381\n",
      "Epoch 7/10\n",
      "309/309 [==============================] - 796s 3s/step - loss: 6.2034e-04 - accuracy: 1.0000 - val_loss: 0.2785 - val_accuracy: 0.9288\n",
      "Epoch 8/10\n",
      "309/309 [==============================] - 790s 3s/step - loss: 3.9256e-04 - accuracy: 1.0000 - val_loss: 0.2307 - val_accuracy: 0.9372\n",
      "Epoch 9/10\n",
      "309/309 [==============================] - 802s 3s/step - loss: 3.7265e-04 - accuracy: 1.0000 - val_loss: 0.2122 - val_accuracy: 0.9419\n",
      "Epoch 10/10\n",
      "309/309 [==============================] - 1175s 4s/step - loss: 2.8167e-04 - accuracy: 1.0000 - val_loss: 0.2307 - val_accuracy: 0.9391\n"
     ]
    },
    {
     "data": {
      "text/plain": [
       "<keras.callbacks.History at 0x235c6a72020>"
      ]
     },
     "execution_count": 6,
     "metadata": {},
     "output_type": "execute_result"
    }
   ],
   "source": [
    "model.fit(train_generator,\n",
    "          epochs=10,\n",
    "          validation_data=validation_generator)\n"
   ]
  },
  {
   "cell_type": "code",
   "execution_count": 8,
   "metadata": {},
   "outputs": [],
   "source": [
    "model.save('C:/Users/91830/OneDrive/Desktop/Project_dataset/Models/fire_detection_densenet201.h5')\n"
   ]
  },
  {
   "cell_type": "code",
   "execution_count": 10,
   "metadata": {},
   "outputs": [
    {
     "name": "stdout",
     "output_type": "stream",
     "text": [
      "1/1 [==============================] - 2s 2s/step\n",
      "No Fire Detected\n"
     ]
    }
   ],
   "source": [
    "from tensorflow.keras.preprocessing import image\n",
    "\n",
    "img_path = 'C:/Users/91830/OneDrive/Desktop/Project_dataset/Test/Fire/55_frame_180.jpg'\n",
    "img = image.load_img(img_path, target_size=(224, 224))\n",
    "img_array = image.img_to_array(img)\n",
    "img_array = np.expand_dims(img_array, axis=0)\n",
    "img_array = preprocess_input(img_array)\n",
    "\n",
    "prediction = model.predict(img_array)\n",
    "if prediction[0][0] > prediction[0][1]:\n",
    "    print('Fire Detected')\n",
    "else:\n",
    "    print('No Fire Detected')\n"
   ]
  },
  {
   "cell_type": "code",
   "execution_count": 4,
   "metadata": {},
   "outputs": [],
   "source": [
    "model1 =tf.keras.models.load_model('C:/Users/91830/OneDrive/Desktop/Project_dataset/Models/DenseNet201.h5')"
   ]
  },
  {
   "cell_type": "code",
   "execution_count": 11,
   "metadata": {},
   "outputs": [
    {
     "name": "stdout",
     "output_type": "stream",
     "text": [
      "Found 1167 images belonging to 2 classes.\n",
      "37/37 [==============================] - 89s 2s/step - loss: 0.8641 - accuracy: 0.3316\n",
      "Test loss: 0.8641\n",
      "Test accuracy: 0.3316\n"
     ]
    }
   ],
   "source": [
    "IMG_SIZE = (224, 224)\n",
    "# prepare the test data\n",
    "test_datagen = ImageDataGenerator(rescale=1./255)\n",
    "test_generator = test_datagen.flow_from_directory('C:/Users/91830/OneDrive/Desktop/Project_dataset/Test/', target_size=IMG_SIZE, batch_size=32, class_mode='categorical')\n",
    "\n",
    "# evaluate the model on the test data\n",
    "loss, accuracy = model.evaluate(test_generator)\n",
    "print(f'Test loss: {loss:.4f}')\n",
    "print(f'Test accuracy: {accuracy:.4f}')"
   ]
  },
  {
   "cell_type": "code",
   "execution_count": 12,
   "metadata": {},
   "outputs": [
    {
     "name": "stdout",
     "output_type": "stream",
     "text": [
      "37/37 [==============================] - 95s 3s/step\n",
      "Confusion Matrix:\n",
      "[[254 221]\n",
      " [363 329]]\n"
     ]
    }
   ],
   "source": [
    "from sklearn.metrics import confusion_matrix\n",
    "# make predictions on the test data\n",
    "Y_pred = model.predict(test_generator)\n",
    "y_pred = np.argmax(Y_pred, axis=1)\n",
    "\n",
    "# get the true labels\n",
    "y_true = test_generator.classes\n",
    "\n",
    "# create the confusion matrix\n",
    "conf_mat = confusion_matrix(y_true, y_pred)\n",
    "\n",
    "print('Confusion Matrix:')\n",
    "print(conf_mat)"
   ]
  },
  {
   "cell_type": "code",
   "execution_count": 13,
   "metadata": {},
   "outputs": [
    {
     "data": {
      "image/png": "[encoded data removed]",
      "text/plain": [
       "<Figure size 640x480 with 2 Axes>"
      ]
     },
     "metadata": {},
     "output_type": "display_data"
    }
   ],
   "source": [
    "import matplotlib.pyplot as plt\n",
    "import numpy\n",
    "from sklearn import metrics\n",
    "\n",
    "actual = numpy.random.binomial(1,.9,size = 1000)\n",
    "predicted = numpy.random.binomial(1,.9,size = 1000)\n",
    "\n",
    "confusion_matrix = metrics.confusion_matrix(actual, predicted)\n",
    "\n",
    "cm_display = metrics.ConfusionMatrixDisplay(confusion_matrix = confusion_matrix, display_labels = [False, True])\n",
    "\n",
    "cm_display.plot()\n",
    "plt.show()"
   ]
  }
 ],
 "metadata": {
  "kernelspec": {
   "display_name": "Python 3",
   "language": "python",
   "name": "python3"
  },
  "language_info": {
   "codemirror_mode": {
    "name": "ipython",
    "version": 3
   },
   "file_extension": ".py",
   "mimetype": "text/x-python",
   "name": "python",
   "nbconvert_exporter": "python",
   "pygments_lexer": "ipython3",
   "version": "3.10.9"
  },
  "orig_nbformat": 4
 },
 "nbformat": 4,
 "nbformat_minor": 2
}
